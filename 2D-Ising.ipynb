{
 "cells": [
  {
   "cell_type": "markdown",
   "id": "93d42a46-f31b-4eab-a308-16caeda78cea",
   "metadata": {},
   "source": [
    "Looking at how to solve 2D Ising model, for meeting on October 10th"
   ]
  },
  {
   "cell_type": "code",
   "execution_count": null,
   "id": "a4b07172-751e-4499-9fd1-9a2dae5bf424",
   "metadata": {},
   "outputs": [],
   "source": [
    "import dimod\n",
    "# Pick out sampler\n",
    "from dwave.system import DWaveSampler, EmbeddingComposite\n",
    "\n",
    "sampler = DWaveSampler()\n",
    "\n",
    "# This was a direct mapping onto the solver qbits\n",
    "q0 = sampler.nodelist[100]\n",
    "# print(q0)\n",
    "# print(sampler.adjacency[q0])\n",
    "adj_iter = iter(sampler.adjacency[q0])\n",
    "q1 = next(adj_iter)\n",
    "q2 = next(adj_iter)\n",
    "q3 = next(adj_iter)\n",
    "# q4 = next(adj_iter)\n",
    "# q5 = next(adj_iter)\n",
    "# q6 = next(adj_iter)\n",
    "# q7 = next(adj_iter)\n",
    "\n",
    "h = {q0: 1,q1: -1,q2: 1,q3: -1}\n",
    "J = {(q0,q1): 1.0,(q0,q2): 1.0, (q1,q3): 1.0, (q2,q3): 1.0,}\n",
    "\n",
    "sampleset = sampler.sample_ising(h, J,num_reads=100)\n",
    "sampleset.first.energy\n"
   ]
  },
  {
   "cell_type": "code",
   "execution_count": 28,
   "id": "bc449c33-76e6-4d90-b534-b055cea6dcb4",
   "metadata": {},
   "outputs": [
    {
     "data": {
      "text/plain": [
       "-4.0"
      ]
     },
     "execution_count": 28,
     "metadata": {},
     "output_type": "execute_result"
    }
   ],
   "source": [
    "sampler = EmbeddingComposite(DWaveSampler())\n",
    "\n",
    "h = {q0: 1,q1: 1,q2: 1,q3: 1}\n",
    "J = {(q0,q1): 1.0,(q0,q2): 1.0, (q1,q3): 1.0, (q2,q3): 1.0,}\n",
    "\n",
    "sampleset = sampler.sample_ising(h, J,num_reads=100)\n",
    "sampleset.first.energy"
   ]
  },
  {
   "cell_type": "code",
   "execution_count": 33,
   "id": "d25c09de-0bd1-4afb-8bba-9b3315af77ba",
   "metadata": {},
   "outputs": [
    {
     "data": {
      "text/plain": [
       "-4.0"
      ]
     },
     "execution_count": 33,
     "metadata": {},
     "output_type": "execute_result"
    }
   ],
   "source": [
    "sampler = EmbeddingComposite(DWaveSampler())\n",
    "\n",
    "h = {}\n",
    "J = {(q0,q1): 1.0,(q0,q2): 1.0, (q1,q3): 1.0, (q2,q3): 1.0,}\n",
    "\n",
    "sampleset = sampler.sample_ising(h, J,num_reads=100)\n",
    "sampleset.first.energy"
   ]
  },
  {
   "cell_type": "code",
   "execution_count": null,
   "id": "33d21f75-1523-4711-b403-da18cdf6250a",
   "metadata": {},
   "outputs": [],
   "source": [
    "bqm = dimod.BinaryQuadraticModel(h, J, dimod.SPIN)\n",
    "solution = DWaveSampler().sample(bqm, max_iter=10, convergence=3)   \n",
    "solution.first.energy  "
   ]
  },
  {
   "cell_type": "markdown",
   "id": "8a11213d-4ed5-4189-84f5-afb8be831940",
   "metadata": {},
   "source": [
    "For next time:\n",
    "\n",
    "Run on larger lattice (4x4, 6x6 maybe?)\n",
    "\n",
    "create program to find lowest energy states py or cpp fine\n",
    "\n",
    "*figure out how to do it with the BQM class, compare results, might be better"
   ]
  }
 ],
 "metadata": {
  "kernelspec": {
   "display_name": "Python 3 (ipykernel)",
   "language": "python",
   "name": "python3"
  },
  "language_info": {
   "codemirror_mode": {
    "name": "ipython",
    "version": 3
   },
   "file_extension": ".py",
   "mimetype": "text/x-python",
   "name": "python",
   "nbconvert_exporter": "python",
   "pygments_lexer": "ipython3",
   "version": "3.10.6"
  }
 },
 "nbformat": 4,
 "nbformat_minor": 5
}
